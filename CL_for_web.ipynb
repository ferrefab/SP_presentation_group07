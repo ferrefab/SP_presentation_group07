{
 "cells": [
  {
   "attachments": {},
   "cell_type": "markdown",
   "id": "05d8df3a",
   "metadata": {},
   "source": [
    "# Semesterarbeit Scientific Programming"
   ]
  },
  {
   "attachments": {},
   "cell_type": "markdown",
   "id": "23dda95b",
   "metadata": {},
   "source": [
    "## Libraries and settings"
   ]
  },
  {
   "cell_type": "code",
   "execution_count": 2,
   "id": "dd9f9b5c",
   "metadata": {},
   "outputs": [
    {
     "name": "stdout",
     "output_type": "stream",
     "text": [
      "c:\\Users\\pasca\\OneDrive - ZHAW\\FS23\\scientific_programming\\Semesterarbeit\n"
     ]
    }
   ],
   "source": [
    "# Libraries\n",
    "import os\n",
    "import pandas as pd\n",
    "import re\n",
    "import sqlite3\n",
    "import pycountry \n",
    "import matplotlib.pyplot as plt\n",
    "import numpy as np\n",
    "from scipy.stats import ttest_ind\n",
    "import streamlit as st"
   ]
  },
  {
   "attachments": {},
   "cell_type": "markdown",
   "id": "2603df2b",
   "metadata": {},
   "source": [
    "## Auf Ordner zugreifen und daten in einem DF speichern"
   ]
  },
  {
   "cell_type": "code",
   "execution_count": 3,
   "id": "ac455958",
   "metadata": {},
   "outputs": [
    {
     "name": "stdout",
     "output_type": "stream",
     "text": [
      "                   Round                     Date  \\\n",
      "0        Round 1 | Leg 1   (Sun) 4 Sep 1955 (W35)   \n",
      "1        Round 1 | Leg 1   (Wed) 7 Sep 1955 (W36)   \n",
      "2        Round 1 | Leg 1   (Thu) 8 Sep 1955 (W36)   \n",
      "3        Round 1 | Leg 1  (Wed) 14 Sep 1955 (W37)   \n",
      "4        Round 1 | Leg 1  (Tue) 20 Sep 1955 (W38)   \n",
      "...                  ...                      ...   \n",
      "6549  Semifinals | Leg 1  (Tue) 26 Apr 2016 (W17)   \n",
      "6550  Semifinals | Leg 1  (Wed) 27 Apr 2016 (W17)   \n",
      "6551  Semifinals | Leg 2   (Tue) 3 May 2016 (W18)   \n",
      "6552  Semifinals | Leg 2   (Wed) 4 May 2016 (W18)   \n",
      "6553               Final  (Sat) 28 May 2016 (W21)   \n",
      "\n",
      "                                Team 1       FT   HT  \\\n",
      "0                Sporting CP › POR (1)      3-3  1-1   \n",
      "1     Budapesti Voros Lobogo › HUN (1)      6-3  3-2   \n",
      "2            Servette Geneve › SUI (1)      0-2  0-0   \n",
      "3            Rot-Weiss Essen › GER (1)      0-4  0-2   \n",
      "4             Djurgardens IF › SWE (1)      0-0  0-0   \n",
      "...                                ...      ...  ...   \n",
      "6549     Manchester City FC › ENG (11)      0-0  0-0   \n",
      "6550        Atletico Madrid › ESP (11)      1-0  1-0   \n",
      "6551         Bayern München › GER (12)      2-1  1-0   \n",
      "6552         Real Madrid CF › ESP (12)      1-0  1-0   \n",
      "6553         Real Madrid CF › ESP (13)  1-1 (*)  1-0   \n",
      "\n",
      "                             Team 2             ∑FT            ET           P  \\\n",
      "0       Partizan Belgrade › SRB (1)             NaN           NaN         NaN   \n",
      "1          RSC Anderlecht › BEL (1)             NaN           NaN         NaN   \n",
      "2          Real Madrid CF › ESP (1)             NaN           NaN         NaN   \n",
      "3            Hibernian FC › SCO (1)             NaN           NaN         NaN   \n",
      "4        Gwardia Warszawa › POL (1)             NaN           NaN         NaN   \n",
      "...                             ...             ...           ...         ...   \n",
      "6549      Real Madrid CF › ESP (11)             NaN           NaN         NaN   \n",
      "6550      Bayern München › GER (11)             NaN           NaN         NaN   \n",
      "6551     Atletico Madrid › ESP (12)  (a) 2-2 (agg.)           NaN         NaN   \n",
      "6552  Manchester City FC › ENG (12)      1-0 (agg.)           NaN         NaN   \n",
      "6553     Atletico Madrid › ESP (13)             NaN  1-1 (a.e.t.)  5-3 (pen.)   \n",
      "\n",
      "       season        Comments     Stage Group  \n",
      "0     1955-56             NaN       NaN   NaN  \n",
      "1     1955-56             NaN       NaN   NaN  \n",
      "2     1955-56             NaN       NaN   NaN  \n",
      "3     1955-56             NaN       NaN   NaN  \n",
      "4     1955-56             NaN       NaN   NaN  \n",
      "...       ...             ...       ...   ...  \n",
      "6549  2015-16             NaN  Knockout   NaN  \n",
      "6550  2015-16             NaN  Knockout   NaN  \n",
      "6551  2015-16  Away Goals (2)  Knockout   NaN  \n",
      "6552  2015-16             NaN  Knockout   NaN  \n",
      "6553  2015-16             NaN  Knockout   NaN  \n",
      "\n",
      "[6554 rows x 13 columns]\n"
     ]
    }
   ],
   "source": [
    "# Base path to archive Folder\n",
    "base_path = 'archive'\n",
    "\n",
    "# List of all seasonal folders in the archive\n",
    "season_folders = [folder for folder in os.listdir(base_path) if os.path.isdir(os.path.join(base_path, folder))]\n",
    "\n",
    "# sort folder by year  \n",
    "season_folders.sort()\n",
    "\n",
    "# For each season, load the Excel file and save it in a list of DataFrames\n",
    "dataframes = []\n",
    "for season in season_folders:\n",
    "    file_path = os.path.join(base_path, season, 'champs.csv')\n",
    "    df = pd.read_csv(file_path)\n",
    "    df['season'] = season  # optional: add a new column \"season\" to save each season\n",
    "    dataframes.append(df)\n",
    "\n",
    "# Combine all Dataframes into a single DataFrame\n",
    "combined_df = pd.concat(dataframes, ignore_index=True)\n",
    "print(combined_df)\n"
   ]
  },
  {
   "attachments": {},
   "cell_type": "markdown",
   "id": "b5b2b0cc",
   "metadata": {},
   "source": [
    "## \"Group\" und \"Comments\" entfernen"
   ]
  },
  {
   "cell_type": "code",
   "execution_count": 4,
   "id": "4766a9a1",
   "metadata": {},
   "outputs": [],
   "source": [
    "# List of columns to be removed\n",
    "columns_to_drop = ['Comments', 'Stage']\n",
    "\n",
    "# Removing the columns from the DataFrame\n",
    "combined_df = combined_df.drop(columns=columns_to_drop)"
   ]
  },
  {
   "attachments": {},
   "cell_type": "markdown",
   "id": "b8fb91d2",
   "metadata": {},
   "source": [
    "## Neue Zeile für Verlängerung"
   ]
  },
  {
   "cell_type": "code",
   "execution_count": 8,
   "id": "c0d16b0c",
   "metadata": {},
   "outputs": [
    {
     "name": "stdout",
     "output_type": "stream",
     "text": [
      "             Round                     Date                            Team 1  \\\n",
      "0  Round 1 | Leg 1   (Sun) 4 Sep 1955 (W35)             Sporting CP › POR (1)   \n",
      "1  Round 1 | Leg 1   (Wed) 7 Sep 1955 (W36)  Budapesti Voros Lobogo › HUN (1)   \n",
      "2  Round 1 | Leg 1   (Thu) 8 Sep 1955 (W36)         Servette Geneve › SUI (1)   \n",
      "3  Round 1 | Leg 1  (Wed) 14 Sep 1955 (W37)         Rot-Weiss Essen › GER (1)   \n",
      "4  Round 1 | Leg 1  (Tue) 20 Sep 1955 (W38)          Djurgardens IF › SWE (1)   \n",
      "\n",
      "    FT   HT                       Team 2  ∑FT   ET    P   season Group  \\\n",
      "0  3-3  1-1  Partizan Belgrade › SRB (1)  NaN  NaN  NaN  1955-56   NaN   \n",
      "1  6-3  3-2     RSC Anderlecht › BEL (1)  NaN  NaN  NaN  1955-56   NaN   \n",
      "2  0-2  0-0     Real Madrid CF › ESP (1)  NaN  NaN  NaN  1955-56   NaN   \n",
      "3  0-4  0-2       Hibernian FC › SCO (1)  NaN  NaN  NaN  1955-56   NaN   \n",
      "4  0-0  0-0   Gwardia Warszawa › POL (1)  NaN  NaN  NaN  1955-56   NaN   \n",
      "\n",
      "  Verlängerung  \n",
      "0         nein  \n",
      "1         nein  \n",
      "2         nein  \n",
      "3         nein  \n",
      "4         nein  \n",
      "                    Round                     Date  \\\n",
      "6537  Round of 16 | Leg 2  (Tue) 15 Mar 2016 (W11)   \n",
      "6538  Round of 16 | Leg 2  (Tue) 15 Mar 2016 (W11)   \n",
      "\n",
      "                            Team 1   FT   HT                   Team 2  \\\n",
      "6537     Atletico Madrid › ESP (8)  0-0  0-0  PSV Eindhoven › NED (8)   \n",
      "6538  Manchester City FC › ENG (8)  0-0  0-0    Dinamo Kiev › UKR (8)   \n",
      "\n",
      "             ∑FT   ET    P   season Group Verlängerung  \n",
      "6537  0-0 (agg.)  0-0  8-7  2015-16   NaN      penalty  \n",
      "6538  3-1 (agg.)  NaN  NaN  2015-16   NaN         nein  \n"
     ]
    }
   ],
   "source": [
    "def check_overtime(row):\n",
    "    overtime = 'no'\n",
    "    # Edit the \"FT\" column\n",
    "    if re.search(r'\\(\\*\\)', row['FT']):\n",
    "        row['FT'] = re.sub(r' \\(\\*\\)', '', row['FT'])\n",
    "        overtime = 'yes'\n",
    "    \n",
    "    # Edit the \"ET\" column\n",
    "    if pd.notna(row['ET']) and re.search(r' \\(a\\.e\\.t\\.\\)', row['ET']):\n",
    "        row['ET'] = re.sub(r' \\(a\\.e\\.t\\.\\)', '', row['ET'])\n",
    "        overtime = 'yes'\n",
    "    \n",
    "    # Edit the \"P\" column\n",
    "    if pd.notna(row['P']) and re.search(r' \\(pen\\.\\)', row['P']):\n",
    "        row['P'] = re.sub(r' \\(pen\\.\\)', '', row['P'])\n",
    "        overtime = 'penalty'\n",
    "    \n",
    "    return overtime\n",
    "\n",
    "# Update the columns \"FT\", \"ET\", and \"P\" and create the new column \"Extra Time\"\n",
    "combined_df['Overtime'] = combined_df.apply(check_overtime, axis=1)\n",
    "print(combined_df.head())"
   ]
  },
  {
   "attachments": {},
   "cell_type": "markdown",
   "id": "203b61a3",
   "metadata": {},
   "source": [
    "## Neue Spalte für einzelne Tore"
   ]
  },
  {
   "cell_type": "code",
   "execution_count": 9,
   "id": "636e9ab4",
   "metadata": {},
   "outputs": [
    {
     "name": "stdout",
     "output_type": "stream",
     "text": [
      "             Round                     Date                            Team 1  \\\n",
      "0  Round 1 | Leg 1   (Sun) 4 Sep 1955 (W35)             Sporting CP › POR (1)   \n",
      "1  Round 1 | Leg 1   (Wed) 7 Sep 1955 (W36)  Budapesti Voros Lobogo › HUN (1)   \n",
      "2  Round 1 | Leg 1   (Thu) 8 Sep 1955 (W36)         Servette Geneve › SUI (1)   \n",
      "3  Round 1 | Leg 1  (Wed) 14 Sep 1955 (W37)         Rot-Weiss Essen › GER (1)   \n",
      "4  Round 1 | Leg 1  (Tue) 20 Sep 1955 (W38)          Djurgardens IF › SWE (1)   \n",
      "\n",
      "    FT   HT                       Team 2  ∑FT   ET    P   season Group  \\\n",
      "0  3-3  1-1  Partizan Belgrade › SRB (1)  NaN  NaN  NaN  1955-56   NaN   \n",
      "1  6-3  3-2     RSC Anderlecht › BEL (1)  NaN  NaN  NaN  1955-56   NaN   \n",
      "2  0-2  0-0     Real Madrid CF › ESP (1)  NaN  NaN  NaN  1955-56   NaN   \n",
      "3  0-4  0-2       Hibernian FC › SCO (1)  NaN  NaN  NaN  1955-56   NaN   \n",
      "4  0-0  0-0   Gwardia Warszawa › POL (1)  NaN  NaN  NaN  1955-56   NaN   \n",
      "\n",
      "  Verlängerung  Tore Heimteam  Tore Auswärtsteam  \n",
      "0         nein              3                  3  \n",
      "1         nein              6                  3  \n",
      "2         nein              0                  2  \n",
      "3         nein              0                  4  \n",
      "4         nein              0                  0  \n"
     ]
    }
   ],
   "source": [
    "def get_goals(row):\n",
    "    for col in ['P', 'ET', 'FT']:\n",
    "        if pd.notna(row[col]):\n",
    "            return row[col].split('-')\n",
    "\n",
    "combined_df[['Goals hometeam', 'Goals guestteam']] = combined_df.apply(get_goals, axis=1, result_type='expand').astype(int)\n",
    "print(combined_df.head())"
   ]
  },
  {
   "attachments": {},
   "cell_type": "markdown",
   "id": "7428a88c",
   "metadata": {},
   "source": [
    "## Web application with streamlit"
   ]
  },
  {
   "cell_type": "code",
   "execution_count": 26,
   "id": "636fc225",
   "metadata": {},
   "outputs": [
    {
     "name": "stderr",
     "output_type": "stream",
     "text": [
      "2023-05-24 13:10:05.892 \n",
      "  \u001b[33m\u001b[1mWarning:\u001b[0m to view this Streamlit app on a browser, run it with the following\n",
      "  command:\n",
      "\n",
      "    streamlit run c:\\Users\\pasca\\anaconda3\\envs\\spenv\\lib\\site-packages\\ipykernel_launcher.py [ARGUMENTS]\n"
     ]
    }
   ],
   "source": [
    "st.set_page_config(page_title='Champions League', page_icon=':trophy:', layout='wide',)\n",
    "st.title('Champions League')\n",
    "\n",
    "# Create a selectbox to choose from the names in the DataFrame\n",
    "selected_season = st.selectbox('Select a season', combined_df['season'].unique())\n",
    "\n",
    "# Filter the DataFrame based on the selected name\n",
    "filtered_df = combined_df[combined_df['season'] == selected_season]\n",
    "st.write(filtered_df)\n",
    "\n",
    "# Calculate total number of games, goals and average goals\n",
    "total_games = len(filtered_df)\n",
    "total_goals = int(filtered_df['Goals hometeam'].sum() + filtered_df['Goals guestteam'].sum())\n",
    "avgGoals = round((total_goals/total_games), 2)\n",
    "\n",
    "# Display the statistics\n",
    "st.write(f\"Total number of games for the {selected_season} season: **{total_games}**\")\n",
    "st.write(f\"Total number of goals for the {selected_season} season: **{total_goals}**\")\n",
    "st.write(f\"Average goals per game: **{avgGoals}**\")"
   ]
  },
  {
   "attachments": {},
   "cell_type": "markdown",
   "id": "4a137dc5",
   "metadata": {},
   "source": [
    "## Footer"
   ]
  },
  {
   "cell_type": "code",
   "execution_count": 25,
   "id": "15db7f4d",
   "metadata": {},
   "outputs": [
    {
     "name": "stdout",
     "output_type": "stream",
     "text": [
      "-----------------------------------\n",
      "NT\n",
      "Windows | 10\n",
      "Datetime: 2023-05-24 13:08:19\n",
      "Python Version: 3.10.9\n",
      "-----------------------------------\n"
     ]
    }
   ],
   "source": [
    "import os\n",
    "import platform\n",
    "import socket\n",
    "from platform import python_version\n",
    "from datetime import datetime\n",
    "\n",
    "print('-----------------------------------')\n",
    "print(os.name.upper())\n",
    "print(platform.system(), '|', platform.release())\n",
    "print('Datetime:', datetime.now().strftime(\"%Y-%m-%d %H:%M:%S\"))\n",
    "print('Python Version:', python_version())\n",
    "print('-----------------------------------')"
   ]
  }
 ],
 "metadata": {
  "kernelspec": {
   "display_name": "Python 3 (ipykernel)",
   "language": "python",
   "name": "python3"
  },
  "language_info": {
   "codemirror_mode": {
    "name": "ipython",
    "version": 3
   },
   "file_extension": ".py",
   "mimetype": "text/x-python",
   "name": "python",
   "nbconvert_exporter": "python",
   "pygments_lexer": "ipython3",
   "version": "3.10.9"
  }
 },
 "nbformat": 4,
 "nbformat_minor": 5
}
